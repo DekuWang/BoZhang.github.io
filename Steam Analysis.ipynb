{
 "cells": [
  {
   "cell_type": "code",
   "execution_count": 6,
   "metadata": {},
   "outputs": [],
   "source": [
    "import pandas as pd\n",
    "\n",
    "df = pd.read_csv(\"../Steam Date/games-features.csv\")"
   ]
  },
  {
   "cell_type": "markdown",
   "metadata": {},
   "source": [
    "Here is a Data set which record all games in Steam until 2017, and our target is to see what's the trend on steam each year, like the average price, type of game, and so on. "
   ]
  },
  {
   "cell_type": "code",
   "execution_count": 7,
   "metadata": {},
   "outputs": [
    {
     "data": {
      "text/plain": [
       "Index(['QueryID', 'ResponseID', 'QueryName', 'ResponseName', 'ReleaseDate',\n",
       "       'RequiredAge', 'DemoCount', 'DeveloperCount', 'DLCCount', 'Metacritic',\n",
       "       'MovieCount', 'PackageCount', 'RecommendationCount', 'PublisherCount',\n",
       "       'ScreenshotCount', 'SteamSpyOwners', 'SteamSpyOwnersVariance',\n",
       "       'SteamSpyPlayersEstimate', 'SteamSpyPlayersVariance',\n",
       "       'AchievementCount', 'AchievementHighlightedCount', 'ControllerSupport',\n",
       "       'IsFree', 'FreeVerAvail', 'PurchaseAvail', 'SubscriptionAvail',\n",
       "       'PlatformWindows', 'PlatformLinux', 'PlatformMac', 'PCReqsHaveMin',\n",
       "       'PCReqsHaveRec', 'LinuxReqsHaveMin', 'LinuxReqsHaveRec',\n",
       "       'MacReqsHaveMin', 'MacReqsHaveRec', 'CategorySinglePlayer',\n",
       "       'CategoryMultiplayer', 'CategoryCoop', 'CategoryMMO',\n",
       "       'CategoryInAppPurchase', 'CategoryIncludeSrcSDK',\n",
       "       'CategoryIncludeLevelEditor', 'CategoryVRSupport', 'GenreIsNonGame',\n",
       "       'GenreIsIndie', 'GenreIsAction', 'GenreIsAdventure', 'GenreIsCasual',\n",
       "       'GenreIsStrategy', 'GenreIsRPG', 'GenreIsSimulation',\n",
       "       'GenreIsEarlyAccess', 'GenreIsFreeToPlay', 'GenreIsSports',\n",
       "       'GenreIsRacing', 'GenreIsMassivelyMultiplayer', 'PriceCurrency',\n",
       "       'PriceInitial', 'PriceFinal', 'SupportEmail', 'SupportURL', 'AboutText',\n",
       "       'Background', 'ShortDescrip', 'DetailedDescrip', 'DRMNotice',\n",
       "       'ExtUserAcctNotice', 'HeaderImage', 'LegalNotice', 'Reviews',\n",
       "       'SupportedLanguages', 'Website', 'PCMinReqsText', 'PCRecReqsText',\n",
       "       'LinuxMinReqsText', 'LinuxRecReqsText', 'MacMinReqsText',\n",
       "       'MacRecReqsText'],\n",
       "      dtype='object')"
      ]
     },
     "execution_count": 7,
     "metadata": {},
     "output_type": "execute_result"
    }
   ],
   "source": [
    "df.keys()"
   ]
  },
  {
   "cell_type": "code",
   "execution_count": 10,
   "metadata": {},
   "outputs": [
    {
     "data": {
      "text/plain": [
       "' '"
      ]
     },
     "execution_count": 10,
     "metadata": {},
     "output_type": "execute_result"
    }
   ],
   "source": [
    "df.ReleaseDate.min()"
   ]
  },
  {
   "cell_type": "markdown",
   "metadata": {},
   "source": []
  }
 ],
 "metadata": {
  "kernelspec": {
   "display_name": "Python 3.9.6 64-bit",
   "language": "python",
   "name": "python3"
  },
  "language_info": {
   "codemirror_mode": {
    "name": "ipython",
    "version": 3
   },
   "file_extension": ".py",
   "mimetype": "text/x-python",
   "name": "python",
   "nbconvert_exporter": "python",
   "pygments_lexer": "ipython3",
   "version": "3.9.6"
  },
  "orig_nbformat": 4,
  "vscode": {
   "interpreter": {
    "hash": "14958d3aee5f1cad06795f787e54b96185c25fb40dfec723a5be941f3a531b8c"
   }
  }
 },
 "nbformat": 4,
 "nbformat_minor": 2
}
