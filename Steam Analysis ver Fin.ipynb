{
 "cells": [
  {
   "cell_type": "code",
   "execution_count": 23,
   "metadata": {},
   "outputs": [],
   "source": [
    "import pandas as pd\n",
    "import matplotlib.pyplot as plt\n",
    "import seaborn as sb\n",
    "import numpy"
   ]
  },
  {
   "cell_type": "markdown",
   "metadata": {},
   "source": [
    "# CMPS-3160 Final Project: How trends are changed on Steam? \n",
    "### Author: Bo Zhang, Tian Xie"
   ]
  },
  {
   "cell_type": "markdown",
   "metadata": {},
   "source": [
    "https://dekuwang.github.io/"
   ]
  },
  {
   "attachments": {},
   "cell_type": "markdown",
   "metadata": {},
   "source": [
    "#### Background Information: \n",
    "Both Tian Xie and Bo Zhang are loyal Steam users, so we wanted to analyze how various games have evolved over time and how players' preferences have changed. Currently, we have selected a database of Steam games in Data World as of 2018, a dataset that contains information on all of Steam's games. This dataset includes game release dates, game genres, site names, developers, and some recommendations. Much of this data does not have a significant impact on the goals of our analysis. Therefore, we chose to narrow down the data types to game release dates, game genres, and whether multiplayer is supported. We believe that these data have a direct or indirect effect on the popularity of the game. In addition to this although the game genre is the same, there are innovations in gameplay. This factor also affects the popularity of the game genre. Therefore, if there is a significant change in the popularity of a certain genre, we will also explain the change in popularity in relation to the change in the genre in that year.\n",
    "\n",
    "With this database, the first question we would like to ask is: what are the trends for each type of game? While a certain game genre has largely managed to become mainstream and most popular with users in every era. However, as technology improves and the way games are played changes. The situation where a certain game genre becomes mainstream in the long run will also change. Our current idea is to add up the number of recommendations for all games of the same genre in the same year, and then use a line graph to indicate the popularity of each game genre in that year. the Y-axis is set to the number of recommendations, and the X-axis is set to the year. If a game genre has changed in an unrecognizable way compared to the previous year, we consider this to be a case of a new game model or new technology emerging. With this one database, we can also determine what the most popular games are each year. By grouping games released in the same year into categories, we can find out what the most recommended games are and then analyze the genre of the game. This can be linked to the previous line graphs showing the popularity of different game genres each year. This is because it is likely that the most popular game of the year drove the popularity of the game genre it belonged to. Also we want to speculate on what influenced the increase or decrease in the number of games by some external factors.\n",
    "\n",
    "Game makers and authors must want their games to be loved by mainstream players. Therefore, the choice of game genre is extremely important for the initial development of the game. Although there have been some surprising games in all genres of the steam and gaming industry over the past decade or so, there are always a few game genres that are generally more popular with the player base. For example, the best games of the year in recent years are action games, which makes us think that it is not because action games are generally more popular with players, so game manufacturers are more inclined to make action games? Based on this basic idea, we wanted to create a predictive model from the data we already had. By adjusting the game genres True or False, we could predict which combination of game genres would give an impression of higher or lower ratings. I think this will help a lot in the basic direction of game production, and developers will choose more ideal combinations to give the possibility of higher ratings for the games to be released.\n",
    "\n",
    "The part about how we collaborated. We created a repository on GitHub that contained the databases we needed to use and the content we developed. Initially, we agreed to discuss this in Google meetings two to three times a week. The discussions focused on database selection and what kinds of problems we wanted to explore with those databases. After the discussion, we would each work on the parts mentioned in the discussion and push them to GitHub. after the discussion, we worked individually, but we found that this collaborative model wasn't efficient. So we then used the Live Share plugin that comes with vscode. This way, two people can edit on the same file and the content can be updated quickly. The initial database was created by Bo Zhang, who proposed to analyze the performance of each game genre in different years and then create a line graph to show the popularity of different game genres in different periods, while Xie Tian was responsible for adding more details to the later ideas. For example, the change in the number of games during the popularity period and whether the change in the number of players had an impact on the number of recommendations for each game genre."
   ]
  },
  {
   "attachments": {},
   "cell_type": "markdown",
   "metadata": {},
   "source": [
    "# $\\color{#39C5BB}{\\text{Part 1:}}$\n",
    "### $\\color{#39C5BB}{\\text{Extraction, Transform, and Load}}$"
   ]
  },
  {
   "attachments": {},
   "cell_type": "markdown",
   "metadata": {},
   "source": [
    "From Kaggle, we found a dataset which include all games information from 2004 to 2018. Let's load that dataset first."
   ]
  },
  {
   "cell_type": "code",
   "execution_count": 24,
   "metadata": {},
   "outputs": [
    {
     "data": {
      "text/html": [
       "<div>\n",
       "<style scoped>\n",
       "    .dataframe tbody tr th:only-of-type {\n",
       "        vertical-align: middle;\n",
       "    }\n",
       "\n",
       "    .dataframe tbody tr th {\n",
       "        vertical-align: top;\n",
       "    }\n",
       "\n",
       "    .dataframe thead th {\n",
       "        text-align: right;\n",
       "    }\n",
       "</style>\n",
       "<table border=\"1\" class=\"dataframe\">\n",
       "  <thead>\n",
       "    <tr style=\"text-align: right;\">\n",
       "      <th></th>\n",
       "      <th>url</th>\n",
       "      <th>types</th>\n",
       "      <th>name</th>\n",
       "      <th>desc_snippet</th>\n",
       "      <th>recent_reviews</th>\n",
       "      <th>all_reviews</th>\n",
       "      <th>release_date</th>\n",
       "      <th>developer</th>\n",
       "      <th>publisher</th>\n",
       "      <th>popular_tags</th>\n",
       "      <th>game_details</th>\n",
       "      <th>languages</th>\n",
       "      <th>achievements</th>\n",
       "      <th>genre</th>\n",
       "      <th>game_description</th>\n",
       "      <th>mature_content</th>\n",
       "      <th>minimum_requirements</th>\n",
       "      <th>recommended_requirements</th>\n",
       "      <th>original_price</th>\n",
       "      <th>discount_price</th>\n",
       "    </tr>\n",
       "  </thead>\n",
       "  <tbody>\n",
       "    <tr>\n",
       "      <th>0</th>\n",
       "      <td>https://store.steampowered.com/app/379720/DOOM/</td>\n",
       "      <td>app</td>\n",
       "      <td>DOOM</td>\n",
       "      <td>Now includes all three premium DLC packs (Unto...</td>\n",
       "      <td>Very Positive,(554),- 89% of the 554 user revi...</td>\n",
       "      <td>Very Positive,(42,550),- 92% of the 42,550 use...</td>\n",
       "      <td>May 12, 2016</td>\n",
       "      <td>id Software</td>\n",
       "      <td>Bethesda Softworks,Bethesda Softworks</td>\n",
       "      <td>FPS,Gore,Action,Demons,Shooter,First-Person,Gr...</td>\n",
       "      <td>Single-player,Multi-player,Co-op,Steam Achieve...</td>\n",
       "      <td>English,French,Italian,German,Spanish - Spain,...</td>\n",
       "      <td>54.0</td>\n",
       "      <td>Action</td>\n",
       "      <td>About This Game Developed by id software, the...</td>\n",
       "      <td>NaN</td>\n",
       "      <td>Minimum:,OS:,Windows 7/8.1/10 (64-bit versions...</td>\n",
       "      <td>Recommended:,OS:,Windows 7/8.1/10 (64-bit vers...</td>\n",
       "      <td>$19.99</td>\n",
       "      <td>$14.99</td>\n",
       "    </tr>\n",
       "    <tr>\n",
       "      <th>1</th>\n",
       "      <td>https://store.steampowered.com/app/578080/PLAY...</td>\n",
       "      <td>app</td>\n",
       "      <td>PLAYERUNKNOWN'S BATTLEGROUNDS</td>\n",
       "      <td>PLAYERUNKNOWN'S BATTLEGROUNDS is a battle roya...</td>\n",
       "      <td>Mixed,(6,214),- 49% of the 6,214 user reviews ...</td>\n",
       "      <td>Mixed,(836,608),- 49% of the 836,608 user revi...</td>\n",
       "      <td>Dec 21, 2017</td>\n",
       "      <td>PUBG Corporation</td>\n",
       "      <td>PUBG Corporation,PUBG Corporation</td>\n",
       "      <td>Survival,Shooter,Multiplayer,Battle Royale,PvP...</td>\n",
       "      <td>Multi-player,Online Multi-Player,Stats</td>\n",
       "      <td>English,Korean,Simplified Chinese,French,Germa...</td>\n",
       "      <td>37.0</td>\n",
       "      <td>Action,Adventure,Massively Multiplayer</td>\n",
       "      <td>About This Game  PLAYERUNKNOWN'S BATTLEGROUND...</td>\n",
       "      <td>Mature Content Description  The developers de...</td>\n",
       "      <td>Minimum:,Requires a 64-bit processor and opera...</td>\n",
       "      <td>Recommended:,Requires a 64-bit processor and o...</td>\n",
       "      <td>$29.99</td>\n",
       "      <td>NaN</td>\n",
       "    </tr>\n",
       "    <tr>\n",
       "      <th>2</th>\n",
       "      <td>https://store.steampowered.com/app/637090/BATT...</td>\n",
       "      <td>app</td>\n",
       "      <td>BATTLETECH</td>\n",
       "      <td>Take command of your own mercenary outfit of '...</td>\n",
       "      <td>Mixed,(166),- 54% of the 166 user reviews in t...</td>\n",
       "      <td>Mostly Positive,(7,030),- 71% of the 7,030 use...</td>\n",
       "      <td>Apr 24, 2018</td>\n",
       "      <td>Harebrained Schemes</td>\n",
       "      <td>Paradox Interactive,Paradox Interactive</td>\n",
       "      <td>Mechs,Strategy,Turn-Based,Turn-Based Tactics,S...</td>\n",
       "      <td>Single-player,Multi-player,Online Multi-Player...</td>\n",
       "      <td>English,French,German,Russian</td>\n",
       "      <td>128.0</td>\n",
       "      <td>Action,Adventure,Strategy</td>\n",
       "      <td>About This Game  From original BATTLETECH/Mec...</td>\n",
       "      <td>NaN</td>\n",
       "      <td>Minimum:,Requires a 64-bit processor and opera...</td>\n",
       "      <td>Recommended:,Requires a 64-bit processor and o...</td>\n",
       "      <td>$39.99</td>\n",
       "      <td>NaN</td>\n",
       "    </tr>\n",
       "    <tr>\n",
       "      <th>3</th>\n",
       "      <td>https://store.steampowered.com/app/221100/DayZ/</td>\n",
       "      <td>app</td>\n",
       "      <td>DayZ</td>\n",
       "      <td>The post-soviet country of Chernarus is struck...</td>\n",
       "      <td>Mixed,(932),- 57% of the 932 user reviews in t...</td>\n",
       "      <td>Mixed,(167,115),- 61% of the 167,115 user revi...</td>\n",
       "      <td>Dec 13, 2018</td>\n",
       "      <td>Bohemia Interactive</td>\n",
       "      <td>Bohemia Interactive,Bohemia Interactive</td>\n",
       "      <td>Survival,Zombies,Open World,Multiplayer,PvP,Ma...</td>\n",
       "      <td>Multi-player,Online Multi-Player,Steam Worksho...</td>\n",
       "      <td>English,French,Italian,German,Spanish - Spain,...</td>\n",
       "      <td>NaN</td>\n",
       "      <td>Action,Adventure,Massively Multiplayer</td>\n",
       "      <td>About This Game The post-soviet country of Ch...</td>\n",
       "      <td>NaN</td>\n",
       "      <td>Minimum:,OS:,Windows 7/8.1 64-bit,Processor:,I...</td>\n",
       "      <td>Recommended:,OS:,Windows 10 64-bit,Processor:,...</td>\n",
       "      <td>$44.99</td>\n",
       "      <td>NaN</td>\n",
       "    </tr>\n",
       "    <tr>\n",
       "      <th>4</th>\n",
       "      <td>https://store.steampowered.com/app/8500/EVE_On...</td>\n",
       "      <td>app</td>\n",
       "      <td>EVE Online</td>\n",
       "      <td>EVE Online is a community-driven spaceship MMO...</td>\n",
       "      <td>Mixed,(287),- 54% of the 287 user reviews in t...</td>\n",
       "      <td>Mostly Positive,(11,481),- 74% of the 11,481 u...</td>\n",
       "      <td>May 6, 2003</td>\n",
       "      <td>CCP</td>\n",
       "      <td>CCP,CCP</td>\n",
       "      <td>Space,Massively Multiplayer,Sci-fi,Sandbox,MMO...</td>\n",
       "      <td>Multi-player,Online Multi-Player,MMO,Co-op,Onl...</td>\n",
       "      <td>English,German,Russian,French</td>\n",
       "      <td>NaN</td>\n",
       "      <td>Action,Free to Play,Massively Multiplayer,RPG,...</td>\n",
       "      <td>About This Game</td>\n",
       "      <td>NaN</td>\n",
       "      <td>Minimum:,OS:,Windows 7,Processor:,Intel Dual C...</td>\n",
       "      <td>Recommended:,OS:,Windows 10,Processor:,Intel i...</td>\n",
       "      <td>Free</td>\n",
       "      <td>NaN</td>\n",
       "    </tr>\n",
       "  </tbody>\n",
       "</table>\n",
       "</div>"
      ],
      "text/plain": [
       "                                                 url types  \\\n",
       "0    https://store.steampowered.com/app/379720/DOOM/   app   \n",
       "1  https://store.steampowered.com/app/578080/PLAY...   app   \n",
       "2  https://store.steampowered.com/app/637090/BATT...   app   \n",
       "3    https://store.steampowered.com/app/221100/DayZ/   app   \n",
       "4  https://store.steampowered.com/app/8500/EVE_On...   app   \n",
       "\n",
       "                            name  \\\n",
       "0                           DOOM   \n",
       "1  PLAYERUNKNOWN'S BATTLEGROUNDS   \n",
       "2                     BATTLETECH   \n",
       "3                           DayZ   \n",
       "4                     EVE Online   \n",
       "\n",
       "                                        desc_snippet  \\\n",
       "0  Now includes all three premium DLC packs (Unto...   \n",
       "1  PLAYERUNKNOWN'S BATTLEGROUNDS is a battle roya...   \n",
       "2  Take command of your own mercenary outfit of '...   \n",
       "3  The post-soviet country of Chernarus is struck...   \n",
       "4  EVE Online is a community-driven spaceship MMO...   \n",
       "\n",
       "                                      recent_reviews  \\\n",
       "0  Very Positive,(554),- 89% of the 554 user revi...   \n",
       "1  Mixed,(6,214),- 49% of the 6,214 user reviews ...   \n",
       "2  Mixed,(166),- 54% of the 166 user reviews in t...   \n",
       "3  Mixed,(932),- 57% of the 932 user reviews in t...   \n",
       "4  Mixed,(287),- 54% of the 287 user reviews in t...   \n",
       "\n",
       "                                         all_reviews  release_date  \\\n",
       "0  Very Positive,(42,550),- 92% of the 42,550 use...  May 12, 2016   \n",
       "1  Mixed,(836,608),- 49% of the 836,608 user revi...  Dec 21, 2017   \n",
       "2  Mostly Positive,(7,030),- 71% of the 7,030 use...  Apr 24, 2018   \n",
       "3  Mixed,(167,115),- 61% of the 167,115 user revi...  Dec 13, 2018   \n",
       "4  Mostly Positive,(11,481),- 74% of the 11,481 u...   May 6, 2003   \n",
       "\n",
       "             developer                                publisher  \\\n",
       "0          id Software    Bethesda Softworks,Bethesda Softworks   \n",
       "1     PUBG Corporation        PUBG Corporation,PUBG Corporation   \n",
       "2  Harebrained Schemes  Paradox Interactive,Paradox Interactive   \n",
       "3  Bohemia Interactive  Bohemia Interactive,Bohemia Interactive   \n",
       "4                  CCP                                  CCP,CCP   \n",
       "\n",
       "                                        popular_tags  \\\n",
       "0  FPS,Gore,Action,Demons,Shooter,First-Person,Gr...   \n",
       "1  Survival,Shooter,Multiplayer,Battle Royale,PvP...   \n",
       "2  Mechs,Strategy,Turn-Based,Turn-Based Tactics,S...   \n",
       "3  Survival,Zombies,Open World,Multiplayer,PvP,Ma...   \n",
       "4  Space,Massively Multiplayer,Sci-fi,Sandbox,MMO...   \n",
       "\n",
       "                                        game_details  \\\n",
       "0  Single-player,Multi-player,Co-op,Steam Achieve...   \n",
       "1             Multi-player,Online Multi-Player,Stats   \n",
       "2  Single-player,Multi-player,Online Multi-Player...   \n",
       "3  Multi-player,Online Multi-Player,Steam Worksho...   \n",
       "4  Multi-player,Online Multi-Player,MMO,Co-op,Onl...   \n",
       "\n",
       "                                           languages  achievements  \\\n",
       "0  English,French,Italian,German,Spanish - Spain,...          54.0   \n",
       "1  English,Korean,Simplified Chinese,French,Germa...          37.0   \n",
       "2                      English,French,German,Russian         128.0   \n",
       "3  English,French,Italian,German,Spanish - Spain,...           NaN   \n",
       "4                      English,German,Russian,French           NaN   \n",
       "\n",
       "                                               genre  \\\n",
       "0                                             Action   \n",
       "1             Action,Adventure,Massively Multiplayer   \n",
       "2                          Action,Adventure,Strategy   \n",
       "3             Action,Adventure,Massively Multiplayer   \n",
       "4  Action,Free to Play,Massively Multiplayer,RPG,...   \n",
       "\n",
       "                                    game_description  \\\n",
       "0   About This Game Developed by id software, the...   \n",
       "1   About This Game  PLAYERUNKNOWN'S BATTLEGROUND...   \n",
       "2   About This Game  From original BATTLETECH/Mec...   \n",
       "3   About This Game The post-soviet country of Ch...   \n",
       "4                                  About This Game     \n",
       "\n",
       "                                      mature_content  \\\n",
       "0                                                NaN   \n",
       "1   Mature Content Description  The developers de...   \n",
       "2                                                NaN   \n",
       "3                                                NaN   \n",
       "4                                                NaN   \n",
       "\n",
       "                                minimum_requirements  \\\n",
       "0  Minimum:,OS:,Windows 7/8.1/10 (64-bit versions...   \n",
       "1  Minimum:,Requires a 64-bit processor and opera...   \n",
       "2  Minimum:,Requires a 64-bit processor and opera...   \n",
       "3  Minimum:,OS:,Windows 7/8.1 64-bit,Processor:,I...   \n",
       "4  Minimum:,OS:,Windows 7,Processor:,Intel Dual C...   \n",
       "\n",
       "                            recommended_requirements original_price  \\\n",
       "0  Recommended:,OS:,Windows 7/8.1/10 (64-bit vers...         $19.99   \n",
       "1  Recommended:,Requires a 64-bit processor and o...         $29.99   \n",
       "2  Recommended:,Requires a 64-bit processor and o...         $39.99   \n",
       "3  Recommended:,OS:,Windows 10 64-bit,Processor:,...         $44.99   \n",
       "4  Recommended:,OS:,Windows 10,Processor:,Intel i...           Free   \n",
       "\n",
       "  discount_price  \n",
       "0         $14.99  \n",
       "1            NaN  \n",
       "2            NaN  \n",
       "3            NaN  \n",
       "4            NaN  "
      ]
     },
     "execution_count": 24,
     "metadata": {},
     "output_type": "execute_result"
    }
   ],
   "source": [
    "sg_df = pd.read_csv(\"Steam Data/steam_games.csv\")\n",
    "sg_df.head()"
   ]
  },
  {
   "attachments": {},
   "cell_type": "markdown",
   "metadata": {},
   "source": [
    "Great! This dataset include far more information than I thought. However, there are many categorial data. Categorical will be hard to analyze, so let's modified some columns. \n",
    "\n",
    "Firstly, we can change release_date from object type to datetime type. "
   ]
  },
  {
   "cell_type": "code",
   "execution_count": 25,
   "metadata": {},
   "outputs": [
    {
     "data": {
      "text/html": [
       "<div>\n",
       "<style scoped>\n",
       "    .dataframe tbody tr th:only-of-type {\n",
       "        vertical-align: middle;\n",
       "    }\n",
       "\n",
       "    .dataframe tbody tr th {\n",
       "        vertical-align: top;\n",
       "    }\n",
       "\n",
       "    .dataframe thead th {\n",
       "        text-align: right;\n",
       "    }\n",
       "</style>\n",
       "<table border=\"1\" class=\"dataframe\">\n",
       "  <thead>\n",
       "    <tr style=\"text-align: right;\">\n",
       "      <th></th>\n",
       "      <th>release_date</th>\n",
       "    </tr>\n",
       "  </thead>\n",
       "  <tbody>\n",
       "    <tr>\n",
       "      <th>0</th>\n",
       "      <td>2016-05-12</td>\n",
       "    </tr>\n",
       "    <tr>\n",
       "      <th>1</th>\n",
       "      <td>2017-12-21</td>\n",
       "    </tr>\n",
       "    <tr>\n",
       "      <th>2</th>\n",
       "      <td>2018-04-24</td>\n",
       "    </tr>\n",
       "    <tr>\n",
       "      <th>3</th>\n",
       "      <td>2018-12-13</td>\n",
       "    </tr>\n",
       "    <tr>\n",
       "      <th>4</th>\n",
       "      <td>2003-05-06</td>\n",
       "    </tr>\n",
       "  </tbody>\n",
       "</table>\n",
       "</div>"
      ],
      "text/plain": [
       "  release_date\n",
       "0   2016-05-12\n",
       "1   2017-12-21\n",
       "2   2018-04-24\n",
       "3   2018-12-13\n",
       "4   2003-05-06"
      ]
     },
     "metadata": {},
     "output_type": "display_data"
    },
    {
     "data": {
      "text/html": [
       "<div>\n",
       "<style scoped>\n",
       "    .dataframe tbody tr th:only-of-type {\n",
       "        vertical-align: middle;\n",
       "    }\n",
       "\n",
       "    .dataframe tbody tr th {\n",
       "        vertical-align: top;\n",
       "    }\n",
       "\n",
       "    .dataframe thead th {\n",
       "        text-align: right;\n",
       "    }\n",
       "</style>\n",
       "<table border=\"1\" class=\"dataframe\">\n",
       "  <thead>\n",
       "    <tr style=\"text-align: right;\">\n",
       "      <th></th>\n",
       "      <th>release_year</th>\n",
       "    </tr>\n",
       "  </thead>\n",
       "  <tbody>\n",
       "    <tr>\n",
       "      <th>0</th>\n",
       "      <td>2016</td>\n",
       "    </tr>\n",
       "    <tr>\n",
       "      <th>1</th>\n",
       "      <td>2017</td>\n",
       "    </tr>\n",
       "    <tr>\n",
       "      <th>2</th>\n",
       "      <td>2018</td>\n",
       "    </tr>\n",
       "    <tr>\n",
       "      <th>3</th>\n",
       "      <td>2018</td>\n",
       "    </tr>\n",
       "    <tr>\n",
       "      <th>4</th>\n",
       "      <td>2003</td>\n",
       "    </tr>\n",
       "  </tbody>\n",
       "</table>\n",
       "</div>"
      ],
      "text/plain": [
       "   release_year\n",
       "0          2016\n",
       "1          2017\n",
       "2          2018\n",
       "3          2018\n",
       "4          2003"
      ]
     },
     "metadata": {},
     "output_type": "display_data"
    }
   ],
   "source": [
    "sg_df[\"release_date\"] = pd.to_datetime(sg_df[\"release_date\"], errors = 'coerce')\n",
    "sg_df[\"release_date\"]\n",
    "release_year = []\n",
    "for i in sg_df[\"release_date\"]:\n",
    "    release_year.append(i.year)\n",
    "sg_df[\"release_year\"] = release_year\n",
    "sg_df[\"release_year\"] = sg_df[\"release_year\"].fillna(-1).astype(\"int64\")\n",
    "\n",
    "display(sg_df[[\"release_date\"]].head())\n",
    "display(sg_df[[\"release_year\"]].head())"
   ]
  },
  {
   "attachments": {},
   "cell_type": "markdown",
   "metadata": {},
   "source": [
    "Secondly, the type of price data is string now, and we want to convert it to int. So my solution is simple: write a for loop, if the price is free, then price equal to 0, for the rest of them I will simply remove the first $ letter and then transfer them into int. Trust me, this is the most efficient way because you can never imagine how game developers describe their game is free to play."
   ]
  },
  {
   "cell_type": "code",
   "execution_count": 26,
   "metadata": {},
   "outputs": [],
   "source": [
    "#Danger Zone, make sure only run it for one time\n",
    "price_list = []\n",
    "for i in sg_df[\"original_price\"]:\n",
    "    if \"$\" in str(i):\n",
    "        price_list.append(str(i)[1:])\n",
    "    else:\n",
    "        price_list.append(0)"
   ]
  },
  {
   "cell_type": "code",
   "execution_count": 27,
   "metadata": {},
   "outputs": [
    {
     "data": {
      "text/plain": [
       "0        19.99\n",
       "1        29.99\n",
       "2        39.99\n",
       "3        44.99\n",
       "4         0.00\n",
       "         ...  \n",
       "40828     2.99\n",
       "40829     2.99\n",
       "40830     7.99\n",
       "40831     9.99\n",
       "40832     4.99\n",
       "Name: original_price, Length: 40833, dtype: float64"
      ]
     },
     "execution_count": 27,
     "metadata": {},
     "output_type": "execute_result"
    }
   ],
   "source": [
    "sg_df[\"original_price\"] = price_list\n",
    "sg_df[\"original_price\"].astype(float)"
   ]
  },
  {
   "attachments": {},
   "cell_type": "markdown",
   "metadata": {},
   "source": [
    "We chose to make our model for predicting ratings via The K Nearest Neighbor. Because this method does not accept data that is not quantitative, we need to transform the game type to boolean."
   ]
  },
  {
   "cell_type": "code",
   "execution_count": 28,
   "metadata": {},
   "outputs": [
    {
     "name": "stdout",
     "output_type": "stream",
     "text": [
      "Index(['360 Video', 'Accounting', 'Action', 'Adventure',\n",
      "       'Animation & Modeling', 'Audio Production', 'Casual',\n",
      "       'Design & Illustration', 'Documentary', 'Early Access', 'Education',\n",
      "       'Free to Play', 'Game Development', 'Gore', 'HTC', 'Indie',\n",
      "       'Massively Multiplayer', 'Movie', 'Nudity', 'Photo Editing', 'RPG',\n",
      "       'Racing', 'Sexual Content', 'Short', 'Simulation', 'Software Training',\n",
      "       'Sports', 'Strategy', 'Tutorial', 'Utilities', 'Valve',\n",
      "       'Video Production', 'Violent', 'Web Publishing'],\n",
      "      dtype='object')\n"
     ]
    },
    {
     "data": {
      "text/plain": [
       "34"
      ]
     },
     "execution_count": 28,
     "metadata": {},
     "output_type": "execute_result"
    }
   ],
   "source": [
    "sg_df = pd.concat([sg_df,sg_df[\"genre\"].str.get_dummies(sep = \",\")], axis = 1)\n",
    "print(sg_df[\"genre\"].str.get_dummies(sep = \",\").keys())\n",
    "len(sg_df[\"genre\"].str.get_dummies(sep = \",\").keys())"
   ]
  },
  {
   "attachments": {},
   "cell_type": "markdown",
   "metadata": {},
   "source": [
    "We see there are 34 types of games on steams. However, many of them are not really represend a game genre. So we only need several of them."
   ]
  },
  {
   "cell_type": "code",
   "execution_count": 29,
   "metadata": {},
   "outputs": [
    {
     "data": {
      "text/html": [
       "<div>\n",
       "<style scoped>\n",
       "    .dataframe tbody tr th:only-of-type {\n",
       "        vertical-align: middle;\n",
       "    }\n",
       "\n",
       "    .dataframe tbody tr th {\n",
       "        vertical-align: top;\n",
       "    }\n",
       "\n",
       "    .dataframe thead th {\n",
       "        text-align: right;\n",
       "    }\n",
       "</style>\n",
       "<table border=\"1\" class=\"dataframe\">\n",
       "  <thead>\n",
       "    <tr style=\"text-align: right;\">\n",
       "      <th></th>\n",
       "      <th>Action</th>\n",
       "      <th>Adventure</th>\n",
       "      <th>Casual</th>\n",
       "      <th>Education</th>\n",
       "      <th>RPG</th>\n",
       "      <th>Racing</th>\n",
       "      <th>Simulation</th>\n",
       "      <th>Sports</th>\n",
       "      <th>Strategy</th>\n",
       "    </tr>\n",
       "  </thead>\n",
       "  <tbody>\n",
       "    <tr>\n",
       "      <th>0</th>\n",
       "      <td>1</td>\n",
       "      <td>0</td>\n",
       "      <td>0</td>\n",
       "      <td>0</td>\n",
       "      <td>0</td>\n",
       "      <td>0</td>\n",
       "      <td>0</td>\n",
       "      <td>0</td>\n",
       "      <td>0</td>\n",
       "    </tr>\n",
       "    <tr>\n",
       "      <th>1</th>\n",
       "      <td>1</td>\n",
       "      <td>1</td>\n",
       "      <td>0</td>\n",
       "      <td>0</td>\n",
       "      <td>0</td>\n",
       "      <td>0</td>\n",
       "      <td>0</td>\n",
       "      <td>0</td>\n",
       "      <td>0</td>\n",
       "    </tr>\n",
       "    <tr>\n",
       "      <th>2</th>\n",
       "      <td>1</td>\n",
       "      <td>1</td>\n",
       "      <td>0</td>\n",
       "      <td>0</td>\n",
       "      <td>0</td>\n",
       "      <td>0</td>\n",
       "      <td>0</td>\n",
       "      <td>0</td>\n",
       "      <td>1</td>\n",
       "    </tr>\n",
       "    <tr>\n",
       "      <th>3</th>\n",
       "      <td>1</td>\n",
       "      <td>1</td>\n",
       "      <td>0</td>\n",
       "      <td>0</td>\n",
       "      <td>0</td>\n",
       "      <td>0</td>\n",
       "      <td>0</td>\n",
       "      <td>0</td>\n",
       "      <td>0</td>\n",
       "    </tr>\n",
       "    <tr>\n",
       "      <th>4</th>\n",
       "      <td>1</td>\n",
       "      <td>0</td>\n",
       "      <td>0</td>\n",
       "      <td>0</td>\n",
       "      <td>1</td>\n",
       "      <td>0</td>\n",
       "      <td>0</td>\n",
       "      <td>0</td>\n",
       "      <td>1</td>\n",
       "    </tr>\n",
       "    <tr>\n",
       "      <th>...</th>\n",
       "      <td>...</td>\n",
       "      <td>...</td>\n",
       "      <td>...</td>\n",
       "      <td>...</td>\n",
       "      <td>...</td>\n",
       "      <td>...</td>\n",
       "      <td>...</td>\n",
       "      <td>...</td>\n",
       "      <td>...</td>\n",
       "    </tr>\n",
       "    <tr>\n",
       "      <th>40828</th>\n",
       "      <td>0</td>\n",
       "      <td>0</td>\n",
       "      <td>1</td>\n",
       "      <td>0</td>\n",
       "      <td>0</td>\n",
       "      <td>0</td>\n",
       "      <td>1</td>\n",
       "      <td>0</td>\n",
       "      <td>0</td>\n",
       "    </tr>\n",
       "    <tr>\n",
       "      <th>40829</th>\n",
       "      <td>0</td>\n",
       "      <td>0</td>\n",
       "      <td>1</td>\n",
       "      <td>0</td>\n",
       "      <td>0</td>\n",
       "      <td>0</td>\n",
       "      <td>1</td>\n",
       "      <td>0</td>\n",
       "      <td>0</td>\n",
       "    </tr>\n",
       "    <tr>\n",
       "      <th>40830</th>\n",
       "      <td>0</td>\n",
       "      <td>0</td>\n",
       "      <td>0</td>\n",
       "      <td>0</td>\n",
       "      <td>1</td>\n",
       "      <td>0</td>\n",
       "      <td>0</td>\n",
       "      <td>0</td>\n",
       "      <td>1</td>\n",
       "    </tr>\n",
       "    <tr>\n",
       "      <th>40831</th>\n",
       "      <td>1</td>\n",
       "      <td>0</td>\n",
       "      <td>0</td>\n",
       "      <td>0</td>\n",
       "      <td>0</td>\n",
       "      <td>0</td>\n",
       "      <td>0</td>\n",
       "      <td>0</td>\n",
       "      <td>0</td>\n",
       "    </tr>\n",
       "    <tr>\n",
       "      <th>40832</th>\n",
       "      <td>0</td>\n",
       "      <td>1</td>\n",
       "      <td>0</td>\n",
       "      <td>0</td>\n",
       "      <td>1</td>\n",
       "      <td>0</td>\n",
       "      <td>0</td>\n",
       "      <td>0</td>\n",
       "      <td>0</td>\n",
       "    </tr>\n",
       "  </tbody>\n",
       "</table>\n",
       "<p>40833 rows × 9 columns</p>\n",
       "</div>"
      ],
      "text/plain": [
       "       Action  Adventure  Casual  Education  RPG  Racing  Simulation  Sports  \\\n",
       "0           1          0       0          0    0       0           0       0   \n",
       "1           1          1       0          0    0       0           0       0   \n",
       "2           1          1       0          0    0       0           0       0   \n",
       "3           1          1       0          0    0       0           0       0   \n",
       "4           1          0       0          0    1       0           0       0   \n",
       "...       ...        ...     ...        ...  ...     ...         ...     ...   \n",
       "40828       0          0       1          0    0       0           1       0   \n",
       "40829       0          0       1          0    0       0           1       0   \n",
       "40830       0          0       0          0    1       0           0       0   \n",
       "40831       1          0       0          0    0       0           0       0   \n",
       "40832       0          1       0          0    1       0           0       0   \n",
       "\n",
       "       Strategy  \n",
       "0             0  \n",
       "1             0  \n",
       "2             1  \n",
       "3             0  \n",
       "4             1  \n",
       "...         ...  \n",
       "40828         0  \n",
       "40829         0  \n",
       "40830         1  \n",
       "40831         0  \n",
       "40832         0  \n",
       "\n",
       "[40833 rows x 9 columns]"
      ]
     },
     "execution_count": 29,
     "metadata": {},
     "output_type": "execute_result"
    }
   ],
   "source": [
    "game_genres = pd.DataFrame\n",
    "needed_genres = [\"Action\", \"Adventure\", \"Casual\", \"Education\", \"RPG\", \"Racing\", \"Simulation\", \"Sports\", \"Strategy\"]\n",
    "game_genres = sg_df[needed_genres]\n",
    "game_genres"
   ]
  },
  {
   "attachments": {},
   "cell_type": "markdown",
   "metadata": {},
   "source": [
    "Also, game review is in words, so I need to transfer it into numbers for analyzing. "
   ]
  },
  {
   "cell_type": "code",
   "execution_count": 30,
   "metadata": {},
   "outputs": [],
   "source": [
    "temp_result = []\n",
    "for i in sg_df[\"all_reviews\"]:\n",
    "    temp_result.append(str(i).split(\",\")[0])\n",
    "sg_df[\"reviews\"] = temp_result\n",
    "sg_reviews = pd.get_dummies(sg_df[\"reviews\"])\n",
    "sg_reviews[\"1 user reviews\"].sum() + sg_reviews[\"2 user reviews\"].sum() + sg_reviews[\"3 user reviews\"].sum() + sg_reviews[\"4 user reviews\"].sum() + sg_reviews[\"5 user reviews\"].sum() + sg_reviews[\"6 user reviews\"].sum() + sg_reviews[\"7 user reviews\"].sum() + sg_reviews[\"8 user reviews\"].sum() + sg_reviews[\"9 user reviews\"].sum()\n",
    "\n",
    "sg_reviews[\"less than 10 reviews\"] = sg_reviews[\"1 user reviews\"] + sg_reviews[\"2 user reviews\"] + sg_reviews[\"3 user reviews\"] + sg_reviews[\"4 user reviews\"] + sg_reviews[\"5 user reviews\"] + sg_reviews[\"6 user reviews\"] + sg_reviews[\"7 user reviews\"] + sg_reviews[\"8 user reviews\"] + sg_reviews[\"9 user reviews\"] + sg_reviews[\"nan\"]\n",
    "\n",
    "sg_reviews[\"less than 10 reviews\"].sum()\n",
    "\n",
    "sg_reviews = sg_reviews.drop([\"1 user reviews\", \"2 user reviews\", \"3 user reviews\", \"4 user reviews\", \"5 user reviews\", \"6 user reviews\", \"7 user reviews\", \"8 user reviews\", \"9 user reviews\", \"nan\"], axis = 1)\n",
    "\n",
    "replace_rows = [\"nan\",\"1 user reviews\", \"2 user reviews\", \"3 user reviews\", \"4 user reviews\", \"5 user reviews\", \"6 user reviews\", \"7 user reviews\", \"8 user reviews\", \"9 user reviews\"]\n",
    "sg_df[\"reviews\"] = sg_df[\"reviews\"].replace(replace_rows, \"less than 10 reviews\")"
   ]
  },
  {
   "cell_type": "code",
   "execution_count": 31,
   "metadata": {},
   "outputs": [
    {
     "data": {
      "text/html": [
       "<div>\n",
       "<style scoped>\n",
       "    .dataframe tbody tr th:only-of-type {\n",
       "        vertical-align: middle;\n",
       "    }\n",
       "\n",
       "    .dataframe tbody tr th {\n",
       "        vertical-align: top;\n",
       "    }\n",
       "\n",
       "    .dataframe thead th {\n",
       "        text-align: right;\n",
       "    }\n",
       "</style>\n",
       "<table border=\"1\" class=\"dataframe\">\n",
       "  <thead>\n",
       "    <tr style=\"text-align: right;\">\n",
       "      <th></th>\n",
       "      <th>reviews</th>\n",
       "      <th>reviews_in_num</th>\n",
       "    </tr>\n",
       "  </thead>\n",
       "  <tbody>\n",
       "    <tr>\n",
       "      <th>0</th>\n",
       "      <td>Very Positive</td>\n",
       "      <td>8.0</td>\n",
       "    </tr>\n",
       "    <tr>\n",
       "      <th>1</th>\n",
       "      <td>Mixed</td>\n",
       "      <td>5.0</td>\n",
       "    </tr>\n",
       "    <tr>\n",
       "      <th>2</th>\n",
       "      <td>Mostly Positive</td>\n",
       "      <td>6.0</td>\n",
       "    </tr>\n",
       "    <tr>\n",
       "      <th>3</th>\n",
       "      <td>Mixed</td>\n",
       "      <td>5.0</td>\n",
       "    </tr>\n",
       "    <tr>\n",
       "      <th>4</th>\n",
       "      <td>Mostly Positive</td>\n",
       "      <td>6.0</td>\n",
       "    </tr>\n",
       "  </tbody>\n",
       "</table>\n",
       "</div>"
      ],
      "text/plain": [
       "           reviews  reviews_in_num\n",
       "0    Very Positive             8.0\n",
       "1            Mixed             5.0\n",
       "2  Mostly Positive             6.0\n",
       "3            Mixed             5.0\n",
       "4  Mostly Positive             6.0"
      ]
     },
     "execution_count": 31,
     "metadata": {},
     "output_type": "execute_result"
    }
   ],
   "source": [
    "result = []\n",
    "for i in sg_df[\"reviews\"]:\n",
    "    if i == \"less than 10 reviews\":\n",
    "        result.append(numpy.nan)\n",
    "    elif i == \"Overwhelmingly Negative\":\n",
    "        result.append(1)\n",
    "    elif i == \"Very Negative\":\n",
    "        result.append(2)\n",
    "    elif i == \"Negative\":\n",
    "        result.append(3)\n",
    "    elif i == \"Mostly Negative\":\n",
    "        result.append(4)\n",
    "    elif i == \"Mixed\":\n",
    "        result.append(5)\n",
    "    elif i == \"Mostly Positive\":\n",
    "        result.append(6)\n",
    "    elif i == \"Positive\":\n",
    "        result.append(7)\n",
    "    elif i == \"Very Positive\":\n",
    "        result.append(8)\n",
    "    elif i == \"Overwhelmingly Positive\":\n",
    "        result.append(9)\n",
    "\n",
    "sg_df[\"reviews_in_num\"] = result\n",
    "sg_df[[\"reviews\", \"reviews_in_num\"]].head()"
   ]
  },
  {
   "attachments": {},
   "cell_type": "markdown",
   "metadata": {},
   "source": [
    "Great! Now we transfered the date data and price data to the type that easier for us to analyze! However, now we have too much columns, so next step I will extract the useful data from the original dataframe to a new one. "
   ]
  },
  {
   "cell_type": "code",
   "execution_count": 32,
   "metadata": {},
   "outputs": [
    {
     "data": {
      "text/plain": [
       "Index(['url', 'types', 'name', 'desc_snippet', 'recent_reviews', 'all_reviews',\n",
       "       'release_date', 'developer', 'publisher', 'popular_tags',\n",
       "       'game_details', 'languages', 'achievements', 'genre',\n",
       "       'game_description', 'mature_content', 'minimum_requirements',\n",
       "       'recommended_requirements', 'original_price', 'discount_price',\n",
       "       'release_year', '360 Video', 'Accounting', 'Action', 'Adventure',\n",
       "       'Animation & Modeling', 'Audio Production', 'Casual',\n",
       "       'Design & Illustration', 'Documentary', 'Early Access', 'Education',\n",
       "       'Free to Play', 'Game Development', 'Gore', 'HTC', 'Indie',\n",
       "       'Massively Multiplayer', 'Movie', 'Nudity', 'Photo Editing', 'RPG',\n",
       "       'Racing', 'Sexual Content', 'Short', 'Simulation', 'Software Training',\n",
       "       'Sports', 'Strategy', 'Tutorial', 'Utilities', 'Valve',\n",
       "       'Video Production', 'Violent', 'Web Publishing', 'reviews',\n",
       "       'reviews_in_num'],\n",
       "      dtype='object')"
      ]
     },
     "execution_count": 32,
     "metadata": {},
     "output_type": "execute_result"
    }
   ],
   "source": [
    "sg_df.keys() #Get all keys of this dataset"
   ]
  },
  {
   "cell_type": "code",
   "execution_count": 33,
   "metadata": {},
   "outputs": [
    {
     "data": {
      "text/html": [
       "<div>\n",
       "<style scoped>\n",
       "    .dataframe tbody tr th:only-of-type {\n",
       "        vertical-align: middle;\n",
       "    }\n",
       "\n",
       "    .dataframe tbody tr th {\n",
       "        vertical-align: top;\n",
       "    }\n",
       "\n",
       "    .dataframe thead th {\n",
       "        text-align: right;\n",
       "    }\n",
       "</style>\n",
       "<table border=\"1\" class=\"dataframe\">\n",
       "  <thead>\n",
       "    <tr style=\"text-align: right;\">\n",
       "      <th></th>\n",
       "      <th>name</th>\n",
       "      <th>all_reviews</th>\n",
       "      <th>release_date</th>\n",
       "      <th>release_year</th>\n",
       "      <th>reviews</th>\n",
       "      <th>reviews_in_num</th>\n",
       "      <th>original_price</th>\n",
       "      <th>genre</th>\n",
       "      <th>Action</th>\n",
       "      <th>Adventure</th>\n",
       "      <th>Casual</th>\n",
       "      <th>Education</th>\n",
       "      <th>RPG</th>\n",
       "      <th>Racing</th>\n",
       "      <th>Simulation</th>\n",
       "      <th>Sports</th>\n",
       "      <th>Strategy</th>\n",
       "    </tr>\n",
       "  </thead>\n",
       "  <tbody>\n",
       "    <tr>\n",
       "      <th>0</th>\n",
       "      <td>DOOM</td>\n",
       "      <td>Very Positive,(42,550),- 92% of the 42,550 use...</td>\n",
       "      <td>2016-05-12</td>\n",
       "      <td>2016</td>\n",
       "      <td>Very Positive</td>\n",
       "      <td>8.0</td>\n",
       "      <td>19.99</td>\n",
       "      <td>Action</td>\n",
       "      <td>1</td>\n",
       "      <td>0</td>\n",
       "      <td>0</td>\n",
       "      <td>0</td>\n",
       "      <td>0</td>\n",
       "      <td>0</td>\n",
       "      <td>0</td>\n",
       "      <td>0</td>\n",
       "      <td>0</td>\n",
       "    </tr>\n",
       "    <tr>\n",
       "      <th>1</th>\n",
       "      <td>PLAYERUNKNOWN'S BATTLEGROUNDS</td>\n",
       "      <td>Mixed,(836,608),- 49% of the 836,608 user revi...</td>\n",
       "      <td>2017-12-21</td>\n",
       "      <td>2017</td>\n",
       "      <td>Mixed</td>\n",
       "      <td>5.0</td>\n",
       "      <td>29.99</td>\n",
       "      <td>Action,Adventure,Massively Multiplayer</td>\n",
       "      <td>1</td>\n",
       "      <td>1</td>\n",
       "      <td>0</td>\n",
       "      <td>0</td>\n",
       "      <td>0</td>\n",
       "      <td>0</td>\n",
       "      <td>0</td>\n",
       "      <td>0</td>\n",
       "      <td>0</td>\n",
       "    </tr>\n",
       "    <tr>\n",
       "      <th>2</th>\n",
       "      <td>BATTLETECH</td>\n",
       "      <td>Mostly Positive,(7,030),- 71% of the 7,030 use...</td>\n",
       "      <td>2018-04-24</td>\n",
       "      <td>2018</td>\n",
       "      <td>Mostly Positive</td>\n",
       "      <td>6.0</td>\n",
       "      <td>39.99</td>\n",
       "      <td>Action,Adventure,Strategy</td>\n",
       "      <td>1</td>\n",
       "      <td>1</td>\n",
       "      <td>0</td>\n",
       "      <td>0</td>\n",
       "      <td>0</td>\n",
       "      <td>0</td>\n",
       "      <td>0</td>\n",
       "      <td>0</td>\n",
       "      <td>1</td>\n",
       "    </tr>\n",
       "    <tr>\n",
       "      <th>3</th>\n",
       "      <td>DayZ</td>\n",
       "      <td>Mixed,(167,115),- 61% of the 167,115 user revi...</td>\n",
       "      <td>2018-12-13</td>\n",
       "      <td>2018</td>\n",
       "      <td>Mixed</td>\n",
       "      <td>5.0</td>\n",
       "      <td>44.99</td>\n",
       "      <td>Action,Adventure,Massively Multiplayer</td>\n",
       "      <td>1</td>\n",
       "      <td>1</td>\n",
       "      <td>0</td>\n",
       "      <td>0</td>\n",
       "      <td>0</td>\n",
       "      <td>0</td>\n",
       "      <td>0</td>\n",
       "      <td>0</td>\n",
       "      <td>0</td>\n",
       "    </tr>\n",
       "    <tr>\n",
       "      <th>4</th>\n",
       "      <td>EVE Online</td>\n",
       "      <td>Mostly Positive,(11,481),- 74% of the 11,481 u...</td>\n",
       "      <td>2003-05-06</td>\n",
       "      <td>2003</td>\n",
       "      <td>Mostly Positive</td>\n",
       "      <td>6.0</td>\n",
       "      <td>0</td>\n",
       "      <td>Action,Free to Play,Massively Multiplayer,RPG,...</td>\n",
       "      <td>1</td>\n",
       "      <td>0</td>\n",
       "      <td>0</td>\n",
       "      <td>0</td>\n",
       "      <td>1</td>\n",
       "      <td>0</td>\n",
       "      <td>0</td>\n",
       "      <td>0</td>\n",
       "      <td>1</td>\n",
       "    </tr>\n",
       "  </tbody>\n",
       "</table>\n",
       "</div>"
      ],
      "text/plain": [
       "                            name  \\\n",
       "0                           DOOM   \n",
       "1  PLAYERUNKNOWN'S BATTLEGROUNDS   \n",
       "2                     BATTLETECH   \n",
       "3                           DayZ   \n",
       "4                     EVE Online   \n",
       "\n",
       "                                         all_reviews release_date  \\\n",
       "0  Very Positive,(42,550),- 92% of the 42,550 use...   2016-05-12   \n",
       "1  Mixed,(836,608),- 49% of the 836,608 user revi...   2017-12-21   \n",
       "2  Mostly Positive,(7,030),- 71% of the 7,030 use...   2018-04-24   \n",
       "3  Mixed,(167,115),- 61% of the 167,115 user revi...   2018-12-13   \n",
       "4  Mostly Positive,(11,481),- 74% of the 11,481 u...   2003-05-06   \n",
       "\n",
       "   release_year          reviews  reviews_in_num original_price  \\\n",
       "0          2016    Very Positive             8.0          19.99   \n",
       "1          2017            Mixed             5.0          29.99   \n",
       "2          2018  Mostly Positive             6.0          39.99   \n",
       "3          2018            Mixed             5.0          44.99   \n",
       "4          2003  Mostly Positive             6.0              0   \n",
       "\n",
       "                                               genre  Action  Adventure  \\\n",
       "0                                             Action       1          0   \n",
       "1             Action,Adventure,Massively Multiplayer       1          1   \n",
       "2                          Action,Adventure,Strategy       1          1   \n",
       "3             Action,Adventure,Massively Multiplayer       1          1   \n",
       "4  Action,Free to Play,Massively Multiplayer,RPG,...       1          0   \n",
       "\n",
       "   Casual  Education  RPG  Racing  Simulation  Sports  Strategy  \n",
       "0       0          0    0       0           0       0         0  \n",
       "1       0          0    0       0           0       0         0  \n",
       "2       0          0    0       0           0       0         1  \n",
       "3       0          0    0       0           0       0         0  \n",
       "4       0          0    1       0           0       0         1  "
      ]
     },
     "execution_count": 33,
     "metadata": {},
     "output_type": "execute_result"
    }
   ],
   "source": [
    "Steam_df = pd.DataFrame # Create an empty dataset\n",
    "Columns_we_need = [\"name\", \"all_reviews\", \"release_date\",\"release_year\",\"reviews\",\"reviews_in_num\", \"original_price\",\"genre\"]\n",
    "Steam_df = sg_df[Columns_we_need]\n",
    "Steam_df = pd.concat([Steam_df, game_genres], axis = 1)\n",
    "Steam_df.head()"
   ]
  },
  {
   "attachments": {},
   "cell_type": "markdown",
   "metadata": {},
   "source": [
    "Now our database is more clearly. It's time for the next step!"
   ]
  },
  {
   "attachments": {},
   "cell_type": "markdown",
   "metadata": {},
   "source": [
    "# $\\color{#39C5BB}{\\text{Part 2:}}$\n",
    "### $\\color{#39C5BB}{\\text{Exploratory Data Analysis}}$"
   ]
  },
  {
   "attachments": {},
   "cell_type": "markdown",
   "metadata": {},
   "source": [
    "I always have a question: How many game are published on steam? With the data we have, we can get this answer easily."
   ]
  },
  {
   "cell_type": "code",
   "execution_count": 34,
   "metadata": {},
   "outputs": [
    {
     "data": {
      "text/plain": [
       "40833"
      ]
     },
     "execution_count": 34,
     "metadata": {},
     "output_type": "execute_result"
    }
   ],
   "source": [
    "len(Steam_df) #Just choose a random column here"
   ]
  },
  {
   "attachments": {},
   "cell_type": "markdown",
   "metadata": {},
   "source": [
    "Wow, until 2018, there are 40833 games on steam. Now I'm curious about how many games are phblished per year? To answer this question, we can use the same method, and we can also generate a graph for it. For this part, I will only use the data from 2004 to 2018."
   ]
  },
  {
   "cell_type": "code",
   "execution_count": 35,
   "metadata": {},
   "outputs": [
    {
     "data": {
      "text/plain": [
       "(22.5, 37.5)"
      ]
     },
     "execution_count": 35,
     "metadata": {},
     "output_type": "execute_result"
    },
    {
     "data": {
      "image/png": "[encoded data removed]",
      "text/plain": [
       "<Figure size 720x360 with 1 Axes>"
      ]
     },
     "metadata": {
      "needs_background": "light"
     },
     "output_type": "display_data"
    }
   ],
   "source": [
    "game_per_year_graph = Steam_df[\"release_year\"].value_counts().sort_index().plot(rot = 45, title = \"games_per_year\", xlabel = \"Year\", ylabel= \"amount\", kind = \"bar\", figsize= (10,5))\n",
    "game_per_year_graph.set_xlim(22.5,37.5) # don't know how to figure out this problem, I will ask some one in the future."
   ]
  },
  {
   "attachments": {},
   "cell_type": "markdown",
   "metadata": {},
   "source": [
    "Great! Now we have a graph represent the amount of game released on steam per year. Also, from this graph, I noticed a trend, and this is the first feature we noticed:\n",
    "\n",
    "### $\\color{66ccff}{\\text{Feature 1: There are more and more new games are published on steam every year. }}$\n",
    "\n",
    "Then let's see what is the most popular game genre on Steam:"
   ]
  },
  {
   "cell_type": "code",
   "execution_count": 36,
   "metadata": {},
   "outputs": [
    {
     "data": {
      "text/plain": [
       "<AxesSubplot:title={'center':'Game Genres'}>"
      ]
     },
     "execution_count": 36,
     "metadata": {},
     "output_type": "execute_result"
    },
    {
     "data": {
      "image/png": "[encoded data removed]",
      "text/plain": [
       "<Figure size 720x360 with 1 Axes>"
      ]
     },
     "metadata": {
      "needs_background": "light"
     },
     "output_type": "display_data"
    }
   ],
   "source": [
    "Steam_df[needed_genres].sum().sort_values().plot(kind = \"bar\", figsize= (10,5), rot = 45, title = \"Game Genres\")"
   ]
  },
  {
   "attachments": {},
   "cell_type": "markdown",
   "metadata": {},
   "source": [
    "From the graph above, I noticed that Action game is the most popular game genre on steam. Let's see how many action games are published each year. "
   ]
  },
  {
   "cell_type": "code",
   "execution_count": 37,
   "metadata": {},
   "outputs": [
    {
     "data": {
      "text/plain": [
       "(18.5, 33.5)"
      ]
     },
     "execution_count": 37,
     "metadata": {},
     "output_type": "execute_result"
    },
    {
     "data": {
      "image/png": "[encoded data removed]",
      "text/plain": [
       "<Figure size 720x360 with 1 Axes>"
      ]
     },
     "metadata": {
      "needs_background": "light"
     },
     "output_type": "display_data"
    }
   ],
   "source": [
    "Action_chart = Steam_df[Steam_df[\"Action\"] == True][\"release_year\"].value_counts().sort_index().plot(rot = 45, kind = \"bar\", title= \"Amount of new pblished Action games each year\", figsize= (10,5))\n",
    "Action_chart.set_xlim(18.5, 33.5)"
   ]
  },
  {
   "attachments": {},
   "cell_type": "markdown",
   "metadata": {},
   "source": [
    "It looks like Action games share the same trend as the amount of games published on steam per year. \n",
    "So now, we can get our second feature: \n",
    "\n",
    "### $\\color{66ccff}{\\text{Feature 2: Action game is the most popular game genre on Steam}}$\n",
    "\n",
    "Thirdly, Let's see the reviews on steam."
   ]
  },
  {
   "cell_type": "code",
   "execution_count": 38,
   "metadata": {},
   "outputs": [
    {
     "data": {
      "text/plain": [
       "<AxesSubplot:>"
      ]
     },
     "execution_count": 38,
     "metadata": {},
     "output_type": "execute_result"
    },
    {
     "data": {
      "image/png": "[encoded data removed]",
      "text/plain": [
       "<Figure size 720x360 with 1 Axes>"
      ]
     },
     "metadata": {
      "needs_background": "light"
     },
     "output_type": "display_data"
    }
   ],
   "source": [
    "Steam_df[\"reviews\"].value_counts().sort_values().plot(kind= \"bar\", figsize=(10,5), rot = 45)"
   ]
  },
  {
   "cell_type": "code",
   "execution_count": 39,
   "metadata": {},
   "outputs": [
    {
     "data": {
      "text/plain": [
       "less than 10 reviews       23470\n",
       "Mixed                       4680\n",
       "Very Positive               4539\n",
       "Positive                    3551\n",
       "Mostly Positive             3311\n",
       "Mostly Negative              782\n",
       "Overwhelmingly Positive      321\n",
       "Negative                     135\n",
       "Very Negative                 37\n",
       "Overwhelmingly Negative        7\n",
       "Name: reviews, dtype: int64"
      ]
     },
     "execution_count": 39,
     "metadata": {},
     "output_type": "execute_result"
    }
   ],
   "source": [
    "Steam_df[\"reviews\"].value_counts()"
   ]
  },
  {
   "cell_type": "code",
   "execution_count": 40,
   "metadata": {},
   "outputs": [
    {
     "data": {
      "image/png": "[encoded data removed]",
      "text/plain": [
       "<Figure size 432x288 with 1 Axes>"
      ]
     },
     "metadata": {},
     "output_type": "display_data"
    }
   ],
   "source": [
    "percents = Steam_df[\"reviews\"].value_counts().to_numpy() * 100 / Steam_df[\"reviews\"].value_counts().to_numpy().sum()\n",
    "label = ['%s - %1.1f %%' % (l, s) for l, s in zip(Steam_df[\"reviews\"].value_counts().keys().values,percents)]\n",
    "pie = plt.pie(Steam_df[\"reviews\"].value_counts(), radius = 4)\n",
    "plt.axis('equal')\n",
    "plt.ylabel(\"\")\n",
    "plt.legend(loc = 'right', labels=label, bbox_to_anchor=(1.35,1.1))\n",
    "plt.show()"
   ]
  },
  {
   "attachments": {},
   "cell_type": "markdown",
   "metadata": {},
   "source": [
    "Wow, more than 20000 games on steam have less than 10 reviews. It looks like make money though steam is not a good idea for individuals, unless they are sure that their game will become popular after publishing. And we just found the third feature of this dataset.\n",
    "\n",
    "### $\\color{66ccff}{\\text{Feature 3: More than half of games on Steam have less than 10 reviews}}$\n",
    "\n",
    "The next step we want to do is creating a model, For this model, we will use the game genres, release year and price to predict the review of the game. "
   ]
  },
  {
   "cell_type": "code",
   "execution_count": 41,
   "metadata": {},
   "outputs": [
    {
     "data": {
      "text/html": [
       "<div>\n",
       "<style scoped>\n",
       "    .dataframe tbody tr th:only-of-type {\n",
       "        vertical-align: middle;\n",
       "    }\n",
       "\n",
       "    .dataframe tbody tr th {\n",
       "        vertical-align: top;\n",
       "    }\n",
       "\n",
       "    .dataframe thead th {\n",
       "        text-align: right;\n",
       "    }\n",
       "</style>\n",
       "<table border=\"1\" class=\"dataframe\">\n",
       "  <thead>\n",
       "    <tr style=\"text-align: right;\">\n",
       "      <th></th>\n",
       "      <th>name</th>\n",
       "      <th>all_reviews</th>\n",
       "      <th>release_date</th>\n",
       "      <th>release_year</th>\n",
       "      <th>reviews</th>\n",
       "      <th>reviews_in_num</th>\n",
       "      <th>original_price</th>\n",
       "      <th>genre</th>\n",
       "      <th>Action</th>\n",
       "      <th>Adventure</th>\n",
       "      <th>Casual</th>\n",
       "      <th>Education</th>\n",
       "      <th>RPG</th>\n",
       "      <th>Racing</th>\n",
       "      <th>Simulation</th>\n",
       "      <th>Sports</th>\n",
       "      <th>Strategy</th>\n",
       "    </tr>\n",
       "  </thead>\n",
       "  <tbody>\n",
       "    <tr>\n",
       "      <th>0</th>\n",
       "      <td>DOOM</td>\n",
       "      <td>Very Positive,(42,550),- 92% of the 42,550 use...</td>\n",
       "      <td>2016-05-12</td>\n",
       "      <td>2016</td>\n",
       "      <td>Very Positive</td>\n",
       "      <td>8.0</td>\n",
       "      <td>19.99</td>\n",
       "      <td>Action</td>\n",
       "      <td>1</td>\n",
       "      <td>0</td>\n",
       "      <td>0</td>\n",
       "      <td>0</td>\n",
       "      <td>0</td>\n",
       "      <td>0</td>\n",
       "      <td>0</td>\n",
       "      <td>0</td>\n",
       "      <td>0</td>\n",
       "    </tr>\n",
       "    <tr>\n",
       "      <th>1</th>\n",
       "      <td>PLAYERUNKNOWN'S BATTLEGROUNDS</td>\n",
       "      <td>Mixed,(836,608),- 49% of the 836,608 user revi...</td>\n",
       "      <td>2017-12-21</td>\n",
       "      <td>2017</td>\n",
       "      <td>Mixed</td>\n",
       "      <td>5.0</td>\n",
       "      <td>29.99</td>\n",
       "      <td>Action,Adventure,Massively Multiplayer</td>\n",
       "      <td>1</td>\n",
       "      <td>1</td>\n",
       "      <td>0</td>\n",
       "      <td>0</td>\n",
       "      <td>0</td>\n",
       "      <td>0</td>\n",
       "      <td>0</td>\n",
       "      <td>0</td>\n",
       "      <td>0</td>\n",
       "    </tr>\n",
       "    <tr>\n",
       "      <th>2</th>\n",
       "      <td>BATTLETECH</td>\n",
       "      <td>Mostly Positive,(7,030),- 71% of the 7,030 use...</td>\n",
       "      <td>2018-04-24</td>\n",
       "      <td>2018</td>\n",
       "      <td>Mostly Positive</td>\n",
       "      <td>6.0</td>\n",
       "      <td>39.99</td>\n",
       "      <td>Action,Adventure,Strategy</td>\n",
       "      <td>1</td>\n",
       "      <td>1</td>\n",
       "      <td>0</td>\n",
       "      <td>0</td>\n",
       "      <td>0</td>\n",
       "      <td>0</td>\n",
       "      <td>0</td>\n",
       "      <td>0</td>\n",
       "      <td>1</td>\n",
       "    </tr>\n",
       "    <tr>\n",
       "      <th>3</th>\n",
       "      <td>DayZ</td>\n",
       "      <td>Mixed,(167,115),- 61% of the 167,115 user revi...</td>\n",
       "      <td>2018-12-13</td>\n",
       "      <td>2018</td>\n",
       "      <td>Mixed</td>\n",
       "      <td>5.0</td>\n",
       "      <td>44.99</td>\n",
       "      <td>Action,Adventure,Massively Multiplayer</td>\n",
       "      <td>1</td>\n",
       "      <td>1</td>\n",
       "      <td>0</td>\n",
       "      <td>0</td>\n",
       "      <td>0</td>\n",
       "      <td>0</td>\n",
       "      <td>0</td>\n",
       "      <td>0</td>\n",
       "      <td>0</td>\n",
       "    </tr>\n",
       "    <tr>\n",
       "      <th>4</th>\n",
       "      <td>EVE Online</td>\n",
       "      <td>Mostly Positive,(11,481),- 74% of the 11,481 u...</td>\n",
       "      <td>2003-05-06</td>\n",
       "      <td>2003</td>\n",
       "      <td>Mostly Positive</td>\n",
       "      <td>6.0</td>\n",
       "      <td>0</td>\n",
       "      <td>Action,Free to Play,Massively Multiplayer,RPG,...</td>\n",
       "      <td>1</td>\n",
       "      <td>0</td>\n",
       "      <td>0</td>\n",
       "      <td>0</td>\n",
       "      <td>1</td>\n",
       "      <td>0</td>\n",
       "      <td>0</td>\n",
       "      <td>0</td>\n",
       "      <td>1</td>\n",
       "    </tr>\n",
       "  </tbody>\n",
       "</table>\n",
       "</div>"
      ],
      "text/plain": [
       "                            name  \\\n",
       "0                           DOOM   \n",
       "1  PLAYERUNKNOWN'S BATTLEGROUNDS   \n",
       "2                     BATTLETECH   \n",
       "3                           DayZ   \n",
       "4                     EVE Online   \n",
       "\n",
       "                                         all_reviews release_date  \\\n",
       "0  Very Positive,(42,550),- 92% of the 42,550 use...   2016-05-12   \n",
       "1  Mixed,(836,608),- 49% of the 836,608 user revi...   2017-12-21   \n",
       "2  Mostly Positive,(7,030),- 71% of the 7,030 use...   2018-04-24   \n",
       "3  Mixed,(167,115),- 61% of the 167,115 user revi...   2018-12-13   \n",
       "4  Mostly Positive,(11,481),- 74% of the 11,481 u...   2003-05-06   \n",
       "\n",
       "   release_year          reviews  reviews_in_num original_price  \\\n",
       "0          2016    Very Positive             8.0          19.99   \n",
       "1          2017            Mixed             5.0          29.99   \n",
       "2          2018  Mostly Positive             6.0          39.99   \n",
       "3          2018            Mixed             5.0          44.99   \n",
       "4          2003  Mostly Positive             6.0              0   \n",
       "\n",
       "                                               genre  Action  Adventure  \\\n",
       "0                                             Action       1          0   \n",
       "1             Action,Adventure,Massively Multiplayer       1          1   \n",
       "2                          Action,Adventure,Strategy       1          1   \n",
       "3             Action,Adventure,Massively Multiplayer       1          1   \n",
       "4  Action,Free to Play,Massively Multiplayer,RPG,...       1          0   \n",
       "\n",
       "   Casual  Education  RPG  Racing  Simulation  Sports  Strategy  \n",
       "0       0          0    0       0           0       0         0  \n",
       "1       0          0    0       0           0       0         0  \n",
       "2       0          0    0       0           0       0         1  \n",
       "3       0          0    0       0           0       0         0  \n",
       "4       0          0    1       0           0       0         1  "
      ]
     },
     "execution_count": 41,
     "metadata": {},
     "output_type": "execute_result"
    }
   ],
   "source": [
    "df_prediction = Steam_df\n",
    "df_prediction.dropna(inplace=True)\n",
    "df_prediction.head()"
   ]
  },
  {
   "cell_type": "code",
   "execution_count": 42,
   "metadata": {},
   "outputs": [
    {
     "data": {
      "text/plain": [
       "array([6.])"
      ]
     },
     "execution_count": 42,
     "metadata": {},
     "output_type": "execute_result"
    }
   ],
   "source": [
    "from sklearn.preprocessing import StandardScaler\n",
    "from sklearn.neighbors import KNeighborsClassifier\n",
    "feature = [\"original_price\", \"release_year\", \"Action\", \"Adventure\", \"Casual\", \"Education\", \"RPG\", \"Racing\", \"Simulation\", \"Sports\", \"Strategy\"]\n",
    "\n",
    "X_train = df_prediction[feature]\n",
    "y_train = df_prediction[\"reviews_in_num\"]\n",
    "\n",
    "scaler = StandardScaler()\n",
    "scaler.fit(X_train)\n",
    "X_train_sc = scaler.transform(X_train)\n",
    "\n",
    "model = KNeighborsClassifier(n_neighbors=50)\n",
    "model.fit(X_train_sc, y_train)\n",
    "\n",
    "X_new = pd.DataFrame()\n",
    "X_new[\"original_price\"] = [60]\n",
    "X_new[\"release_year\"] = [2007]\n",
    "X_new[\"Action\"] = True\n",
    "X_new['Adventure'] = False\n",
    "X_new['Casual'] = False\n",
    "X_new['Education'] = False\n",
    "X_new['RPG'] = False\n",
    "X_new['Racing'] = False\n",
    "X_new['Simulation'] = True\n",
    "X_new['Sports'] = False\n",
    "X_new['Strategy'] = False\n",
    "x_new_sc = scaler.transform(X_new)\n",
    "\n",
    "\n",
    "model.predict(x_new_sc)"
   ]
  },
  {
   "attachments": {},
   "cell_type": "markdown",
   "metadata": {},
   "source": [
    "### Conclusion\n",
    "The prediction model shows that action games can get high scores with many game genres, but they get much lower scores with education games. Therefore, we can assume that the reason for the significant increase in the number of action games is that action games can easily be paired with other types of games, which makes the game more playable and the effect of the pairing tends to make the game score higher. The reason for the low number of educational games is that game makers believe that these games are not popular with the mainstream gaming community. We conclude that the change in the number of educational games supports our view. After a brief rise in the number of educational games there was a downward trend.\n",
    "\n",
    "We summarize several conjectures about the reasons for the significant increase in the number of games. First of all the overall gaming environment has changed dramatically under the influence of Covid. People had a lot of time to stay at home during the epidemic. The reduction in recreational activities will make people more inclined to online entertainment. As a result more producers as well as players flocked to the video game industry during this period, allowing the overall number of games to increase. The second thing is the development of development tools. The development of game engines never stops and the tools used by developers become more and more convenient, so game developers don't need to invest a lot of time to learn how to make games. For example, the development of 3D engines roughly simulates real-world physics collisions. And character modeling can be downloaded for a fee from a number of websites. Small cost game production can build a general world view and framework, and other game kernels, character modeling, and sound effects can be directly used from existing online resources. Therefore, the number of games produced and the convenience of development tools have a certain connection."
   ]
  }
 ],
 "metadata": {
  "kernelspec": {
   "display_name": "Python 3",
   "language": "python",
   "name": "python3"
  },
  "language_info": {
   "codemirror_mode": {
    "name": "ipython",
    "version": 3
   },
   "file_extension": ".py",
   "mimetype": "text/x-python",
   "name": "python",
   "nbconvert_exporter": "python",
   "pygments_lexer": "ipython3",
   "version": "3.9.6"
  },
  "orig_nbformat": 4,
  "vscode": {
   "interpreter": {
    "hash": "14958d3aee5f1cad06795f787e54b96185c25fb40dfec723a5be941f3a531b8c"
   }
  }
 },
 "nbformat": 4,
 "nbformat_minor": 2
}
